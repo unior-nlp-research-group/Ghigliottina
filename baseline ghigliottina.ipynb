{
 "cells": [
  {
   "cell_type": "code",
   "execution_count": null,
   "metadata": {
    "collapsed": true
   },
   "outputs": [],
   "source": [
    "import pandas as pd\n",
    "import gensim\n",
    "import logging"
   ]
  },
  {
   "cell_type": "code",
   "execution_count": 33,
   "metadata": {},
   "outputs": [
    {
     "data": {
      "text/html": [
       "<div>\n",
       "<style>\n",
       "    .dataframe thead tr:only-child th {\n",
       "        text-align: right;\n",
       "    }\n",
       "\n",
       "    .dataframe thead th {\n",
       "        text-align: left;\n",
       "    }\n",
       "\n",
       "    .dataframe tbody tr th {\n",
       "        vertical-align: top;\n",
       "    }\n",
       "</style>\n",
       "<table border=\"1\" class=\"dataframe\">\n",
       "  <thead>\n",
       "    <tr style=\"text-align: right;\">\n",
       "      <th></th>\n",
       "      <th>word1</th>\n",
       "      <th>word2</th>\n",
       "      <th>word3</th>\n",
       "      <th>word4</th>\n",
       "      <th>word5</th>\n",
       "      <th>solution</th>\n",
       "    </tr>\n",
       "  </thead>\n",
       "  <tbody>\n",
       "    <tr>\n",
       "      <th>0</th>\n",
       "      <td>prendere</td>\n",
       "      <td>sera</td>\n",
       "      <td>taglio</td>\n",
       "      <td>cerimonia</td>\n",
       "      <td>sposa</td>\n",
       "      <td>abito</td>\n",
       "    </tr>\n",
       "    <tr>\n",
       "      <th>1</th>\n",
       "      <td>remoto</td>\n",
       "      <td>diritto</td>\n",
       "      <td>riservato</td>\n",
       "      <td>punto</td>\n",
       "      <td>negato</td>\n",
       "      <td>accesso</td>\n",
       "    </tr>\n",
       "    <tr>\n",
       "      <th>2</th>\n",
       "      <td>parola</td>\n",
       "      <td>stato</td>\n",
       "      <td>sotto</td>\n",
       "      <td>capo</td>\n",
       "      <td>gratuita</td>\n",
       "      <td>accusa</td>\n",
       "    </tr>\n",
       "    <tr>\n",
       "      <th>3</th>\n",
       "      <td>dolce</td>\n",
       "      <td>sotto</td>\n",
       "      <td>pubblica</td>\n",
       "      <td>buco</td>\n",
       "      <td>muro</td>\n",
       "      <td>acqua</td>\n",
       "    </tr>\n",
       "    <tr>\n",
       "      <th>4</th>\n",
       "      <td>famiglia</td>\n",
       "      <td>chiudere</td>\n",
       "      <td>poco</td>\n",
       "      <td>vero</td>\n",
       "      <td>dreyfus</td>\n",
       "      <td>affare</td>\n",
       "    </tr>\n",
       "  </tbody>\n",
       "</table>\n",
       "</div>"
      ],
      "text/plain": [
       "      word1     word2      word3      word4     word5 solution\n",
       "0  prendere      sera     taglio  cerimonia     sposa    abito\n",
       "1    remoto   diritto  riservato      punto    negato  accesso\n",
       "2    parola     stato      sotto       capo  gratuita   accusa\n",
       "3     dolce     sotto   pubblica       buco      muro    acqua\n",
       "4  famiglia  chiudere       poco       vero   dreyfus   affare"
      ]
     },
     "execution_count": 33,
     "metadata": {},
     "output_type": "execute_result"
    }
   ],
   "source": [
    "df = pd.read_csv(\"./data/ghigliottina.csv\")\n",
    "df = df.dropna()\n",
    "df.head()"
   ]
  },
  {
   "cell_type": "code",
   "execution_count": 6,
   "metadata": {},
   "outputs": [],
   "source": [
    "model = gensim.models.Word2Vec.load('./data/skipgram_wiki_window10_size300_neg-samples10/wiki_iter=5_algorithm=skipgram_window=10_size=300_neg-samples=10.m')"
   ]
  },
  {
   "cell_type": "code",
   "execution_count": 32,
   "metadata": {},
   "outputs": [],
   "source": [
    "results = Counter({False:0, True:0})\n",
    "for i in range(len(df)):\n",
    "    y = set(df.iloc[i,0:5].values)\n",
    "    x = set([x[0] for x in model.predict_output_word(df.iloc[i,0:5].values, topn=10)])\n",
    "    results.update({(df.solution[i] in x-y):1})"
   ]
  },
  {
   "cell_type": "code",
   "execution_count": 34,
   "metadata": {},
   "outputs": [
    {
     "name": "stdout",
     "output_type": "stream",
     "text": [
      "Counter({False: 384, True: 133})\n"
     ]
    }
   ],
   "source": [
    "print(results)"
   ]
  }
 ],
 "metadata": {
  "kernelspec": {
   "display_name": "venvghiglio",
   "language": "python",
   "name": "venvghiglio"
  },
  "language_info": {
   "codemirror_mode": {
    "name": "ipython",
    "version": 3
   },
   "file_extension": ".py",
   "mimetype": "text/x-python",
   "name": "python",
   "nbconvert_exporter": "python",
   "pygments_lexer": "ipython3",
   "version": "3.6.1"
  }
 },
 "nbformat": 4,
 "nbformat_minor": 2
}
